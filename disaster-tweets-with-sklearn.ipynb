{
 "cells": [
  {
   "cell_type": "code",
   "execution_count": null,
   "id": "6fa2ed8c",
   "metadata": {
    "execution": {
     "iopub.execute_input": "2022-05-18T07:36:17.382804Z",
     "iopub.status.busy": "2022-05-18T07:36:17.382508Z",
     "iopub.status.idle": "2022-05-18T07:36:30.931500Z",
     "shell.execute_reply": "2022-05-18T07:36:30.928936Z"
    },
    "papermill": {
     "duration": 13.561803,
     "end_time": "2022-05-18T07:36:30.934545",
     "exception": false,
     "start_time": "2022-05-18T07:36:17.372742",
     "status": "completed"
    },
    "tags": []
   },
   "outputs": [],
   "source": [
    "import torch\n",
    "import torchvision\n",
    "import numpy as np\n",
    "import matplotlib.pyplot as plt\n",
    "import pandas as pd\n",
    "from torch.nn import *\n",
    "from torch.optim import *\n",
    "from torchvision.models import *\n",
    "from sklearn.model_selection import *\n",
    "from sklearn.metrics import f1_score,accuracy_score,precision_score\n",
    "import wandb\n",
    "import nltk\n",
    "from nltk.stem.porter import *\n",
    "from tqdm import tqdm\n",
    "from sklearn.feature_extraction.text import CountVectorizer, TfidfVectorizer\n",
    "from sklearn.metrics import f1_score\n",
    "from sklearn import svm\n",
    "import tensorflow as tf\n",
    "import tensorflow_hub as hub\n",
    "import tensorflow_datasets as tfds\n",
    "import warnings\n",
    "import os\n",
    "warnings.filterwarnings(\"ignore\")\n",
    "PROJECT_NAME = \"Natural-Language-Processing-with-Disaster-Tweets\"\n",
    "np.random.seed(55)\n",
    "stemmer = PorterStemmer()\n",
    "device = \"cuda\"\n",
    "os.environ[\"CUDA_LAUNCH_BLOCKING\"]=\"1\"\n",
    "print(\"Version: \", tf.__version__)\n",
    "print(\"Eager mode: \", tf.executing_eagerly())\n",
    "print(\"Hub version: \", hub.__version__)\n",
    "print(\"GPU is\", \"available\" if tf.config.list_physical_devices(\"GPU\") else \"NOT AVAILABLE\")"
   ]
  },
  {
   "cell_type": "code",
   "execution_count": null,
   "id": "c9daf145",
   "metadata": {
    "execution": {
     "iopub.execute_input": "2022-05-18T07:36:30.954866Z",
     "iopub.status.busy": "2022-05-18T07:36:30.954539Z",
     "iopub.status.idle": "2022-05-18T07:36:31.041652Z",
     "shell.execute_reply": "2022-05-18T07:36:31.040602Z"
    },
    "papermill": {
     "duration": 0.100029,
     "end_time": "2022-05-18T07:36:31.044329",
     "exception": false,
     "start_time": "2022-05-18T07:36:30.944300",
     "status": "completed"
    },
    "tags": []
   },
   "outputs": [],
   "source": [
    "class Sklearn_Data_Loader:\n",
    "    def __init__(\n",
    "        self,\n",
    "        data: pd.DataFrame = pd.read_csv(\"./train.csv\"),\n",
    "        test: pd.DataFrame = pd.read_csv(\"./test.csv\"),\n",
    "        all_words: list = [],\n",
    "        tags: list = [],\n",
    "    ):\n",
    "        self.data = data\n",
    "        self.data = self.data.sample(frac=1)\n",
    "        self.test = test\n",
    "        self.X = self.data[\"text\"]\n",
    "        self.y = self.data[\"target\"]\n",
    "        # self.y = np.array(self.y.tolist())\n",
    "        # self.y = self.y.reshape(-1, 1)\n",
    "        self.all_words = all_words\n",
    "\n",
    "    def create(self, count_vectorizer=False):\n",
    "        self.X_train, self.X_test, self.y_train, self.y_test = train_test_split(\n",
    "            self.X, self.y, test_size=0.0625, shuffle=True\n",
    "        )\n",
    "        if count_vectorizer:\n",
    "            self.vectorizer = CountVectorizer(binary=1)\n",
    "        else:\n",
    "            self.vectorizer = TfidfVectorizer()\n",
    "        self.X_train = self.vectorizer.fit_transform(self.X_train)\n",
    "        self.X_test = self.vectorizer.transform(self.X_test)\n",
    "        # self.X_train = np.array(self.X_train)\n",
    "        # self.y_train = np.array(self.y_train)\n",
    "        # self.X_test = np.array(self.X_test)\n",
    "        # self.y_test = np.array(self.y_test)\n",
    "        return self.X_train, self.X_test, self.y_train, self.y_test, self.vectorizer\n",
    "\n",
    "    def create_test(self):\n",
    "        return self.vectorizer.transform(self.test[\"text\"])\n",
    "\n",
    "    def create_submission(self, model):\n",
    "        preds = model.predict(self.create_test())\n",
    "        print(preds)\n",
    "        ids = self.test[\"id\"]\n",
    "        submission = {\"id\": [], \"target\": []}\n",
    "        for pred, id in tqdm(zip(preds, ids)):\n",
    "            submission[\"id\"].append(id)\n",
    "            submission[\"target\"].append(int(pred))\n",
    "        submission = pd.DataFrame(submission)\n",
    "        return submission\n"
   ]
  },
  {
   "cell_type": "code",
   "execution_count": null,
   "id": "79600712",
   "metadata": {
    "execution": {
     "iopub.execute_input": "2022-05-18T07:36:31.065050Z",
     "iopub.status.busy": "2022-05-18T07:36:31.064516Z",
     "iopub.status.idle": "2022-05-18T07:36:31.071576Z",
     "shell.execute_reply": "2022-05-18T07:36:31.070724Z"
    },
    "papermill": {
     "duration": 0.02015,
     "end_time": "2022-05-18T07:36:31.073869",
     "exception": false,
     "start_time": "2022-05-18T07:36:31.053719",
     "status": "completed"
    },
    "tags": []
   },
   "outputs": [],
   "source": [
    "class Sklearn_Modelling:\n",
    "    def train(self, model, X_train, y_train, X_test, y_test, name):\n",
    "#         wandb.init(project=PROJECT_NAME, name=name)\n",
    "        model.fit(X_train, y_train)\n",
    "        preds = model.predict(X_test)\n",
    "#         preds_prob = model.predict_proba(X_test)\n",
    "        labels = sorted(set(list(y_test)))\n",
    "#         wandb.log(\n",
    "#             {\n",
    "#                 \"Accuracy\": accuracy_score(preds, y_test),\n",
    "#                 \"F1 Score\": f1_score(preds, y_test),\n",
    "#                 \"Precisions\": precision_score(preds, y_test),\n",
    "#             }\n",
    "#         )\n",
    "        print(\n",
    "            {\n",
    "                \"Accuracy\": accuracy_score(preds, y_test),\n",
    "                \"F1 Score\": f1_score(preds, y_test),\n",
    "                \"Precisions\": precision_score(preds, y_test),\n",
    "            }\n",
    "        )\n",
    "#         wandb.sklearn.plot_confusion_matrix(y_test, preds, labels)\n",
    "        # wandb.sklearn.plot_classifier(model, X_train, X_test, y_train, y_test, preds, preds_prob, {0:0,1:1},\n",
    "        #                                                  model_name=f'{model}')\n",
    "#         wandb.sklearn.plot_roc(y_test, preds_prob, labels)\n",
    "#         wandb.sklearn.plot_precision_recall(y_test, preds_prob, labels)\n",
    "#         wandb.sklearn.plot_confusion_matrix(y_test, preds, labels)\n",
    "#         wandb.finish()\n",
    "        return model, preds"
   ]
  },
  {
   "cell_type": "code",
   "execution_count": null,
   "id": "c5b3b96b",
   "metadata": {
    "execution": {
     "iopub.execute_input": "2022-05-18T07:36:31.093354Z",
     "iopub.status.busy": "2022-05-18T07:36:31.092976Z",
     "iopub.status.idle": "2022-05-18T07:36:54.944565Z",
     "shell.execute_reply": "2022-05-18T07:36:54.943316Z"
    },
    "papermill": {
     "duration": 23.865504,
     "end_time": "2022-05-18T07:36:54.947927",
     "exception": false,
     "start_time": "2022-05-18T07:36:31.082423",
     "status": "completed"
    },
    "tags": []
   },
   "outputs": [],
   "source": [
    "sdl = Sklearn_Data_Loader()\n",
    "X_train, X_test, y_train, y_test, vectorizer = sdl.create()\n",
    "sm = Sklearn_Modelling()\n",
    "model = svm.SVC()\n",
    "model.fit(X_train, y_train)\n",
    "model, preds = sm.train(model, X_train, y_train, X_test, y_test, \"name\")\n",
    "submission = sdl.create_submission(model)\n",
    "submission.to_csv(\"./Sklearn-2.csv\", index=False)"
   ]
  },
  {
   "cell_type": "code",
   "execution_count": null,
   "id": "3b8730b7",
   "metadata": {
    "papermill": {
     "duration": 0.011492,
     "end_time": "2022-05-18T07:36:54.970894",
     "exception": false,
     "start_time": "2022-05-18T07:36:54.959402",
     "status": "completed"
    },
    "tags": []
   },
   "outputs": [],
   "source": []
  },
  {
   "cell_type": "code",
   "execution_count": null,
   "id": "4888cb5e",
   "metadata": {},
   "outputs": [],
   "source": []
  }
 ],
 "metadata": {
  "kernelspec": {
   "display_name": "Python 3 (ipykernel)",
   "language": "python",
   "name": "python3"
  },
  "language_info": {
   "codemirror_mode": {
    "name": "ipython",
    "version": 3
   },
   "file_extension": ".py",
   "mimetype": "text/x-python",
   "name": "python",
   "nbconvert_exporter": "python",
   "pygments_lexer": "ipython3",
   "version": "3.7.12"
  },
  "papermill": {
   "default_parameters": {},
   "duration": 51.714482,
   "end_time": "2022-05-18T07:36:58.506861",
   "environment_variables": {},
   "exception": null,
   "input_path": "__notebook__.ipynb",
   "output_path": "__notebook__.ipynb",
   "parameters": {},
   "start_time": "2022-05-18T07:36:06.792379",
   "version": "2.3.4"
  }
 },
 "nbformat": 4,
 "nbformat_minor": 5
}
